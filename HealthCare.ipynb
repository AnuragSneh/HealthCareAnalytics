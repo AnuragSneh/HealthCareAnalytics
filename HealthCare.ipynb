{
 "cells": [
  {
   "cell_type": "code",
   "execution_count": 1,
   "metadata": {},
   "outputs": [
    {
     "name": "stderr",
     "output_type": "stream",
     "text": [
      "D:\\Softwares\\Anaconda\\lib\\site-packages\\ipykernel_launcher.py:4: SettingWithCopyWarning: \n",
      "A value is trying to be set on a copy of a slice from a DataFrame\n",
      "\n",
      "See the caveats in the documentation: http://pandas.pydata.org/pandas-docs/stable/indexing.html#indexing-view-versus-copy\n",
      "  after removing the cwd from sys.path.\n"
     ]
    }
   ],
   "source": [
    "import pandas as pd\n",
    "dfmortality = pd.read_csv(\"D:/Assignments/SEM 2/Healthcare/Project/Mortality Data.csv\")\n",
    "filter = dfmortality[dfmortality.ICD10.str.contains('J')]\n",
    "filter.sort_values(\"ICD10\",inplace = True,ascending = True)"
   ]
  },
  {
   "cell_type": "code",
   "execution_count": 2,
   "metadata": {},
   "outputs": [
    {
     "data": {
      "text/plain": [
       "Index(['CountryName', 'MortalityYear', 'Gender', 'AgeGroupCode', 'ICD10',\n",
       "       'Deaths'],\n",
       "      dtype='object')"
      ]
     },
     "execution_count": 2,
     "metadata": {},
     "output_type": "execute_result"
    }
   ],
   "source": [
    "dfmortality.columns"
   ]
  },
  {
   "cell_type": "markdown",
   "metadata": {},
   "source": [
    "Q1 Mortality rate per country over the years due to respiratory diseases\n",
    "Analysis to be derived : Which country has the highest average Mortality rate over the years and Why?\n",
    "(Population Dataset of every country needs to be imported to find this out) --> Needs to be discussed"
   ]
  },
  {
   "cell_type": "code",
   "execution_count": 3,
   "metadata": {},
   "outputs": [
    {
     "name": "stdout",
     "output_type": "stream",
     "text": [
      "                          CountryName  MortalityYear     0\n",
      "0                            Anguilla           2014     2\n",
      "1                            Anguilla           2016     2\n",
      "2                            Anguilla           2017     4\n",
      "3                            Anguilla           2018     1\n",
      "4                 Antigua and Barbuda           2013    13\n",
      "5                 Antigua and Barbuda           2014    29\n",
      "6                 Antigua and Barbuda           2015    24\n",
      "7                 Antigua and Barbuda           2016    15\n",
      "8                 Antigua and Barbuda           2017    29\n",
      "9                           Argentina           2011    55\n",
      "10                          Argentina           2013   468\n",
      "11                          Argentina           2014  1326\n",
      "12                          Argentina           2015   590\n",
      "13                          Argentina           2016   462\n",
      "14                          Argentina           2017  1453\n",
      "15                              Aruba           2013     8\n",
      "16                              Aruba           2014    35\n",
      "17                              Aruba           2015    16\n",
      "18                              Aruba           2016    23\n",
      "19                            Bahamas           2011     3\n",
      "20                            Bahamas           2013    30\n",
      "21                            Bahamas           2014    77\n",
      "22                           Barbados           2011     1\n",
      "23                           Barbados           2013    44\n",
      "24                             Belize           2013    26\n",
      "25                             Belize           2014   101\n",
      "26                             Belize           2015    75\n",
      "27                             Belize           2016    64\n",
      "28                            Bermuda           2013    12\n",
      "29                            Bermuda           2014    19\n",
      "..                                ...            ...   ...\n",
      "156  Saint Vincent and the Grenadines           2017    50\n",
      "157                SaintKittsandNevis           2011     1\n",
      "158                SaintKittsandNevis           2013     5\n",
      "159                SaintKittsandNevis           2014    15\n",
      "160                SaintKittsandNevis           2015     9\n",
      "161                SaintKittsandNevis           2016     7\n",
      "162                          Suriname           2011     3\n",
      "163                          Suriname           2013    26\n",
      "164                          Suriname           2014    92\n",
      "165               Trinidad and Tobago           2011     6\n",
      "166             TurksandCaicosIslands           2013     2\n",
      "167             TurksandCaicosIslands           2014     6\n",
      "168             TurksandCaicosIslands           2015     3\n",
      "169          United States of America           2011   148\n",
      "170          United States of America           2013   965\n",
      "171          United States of America           2014  2724\n",
      "172          United States of America           2015  1074\n",
      "173          United States of America           2016   716\n",
      "174          United States of America           2017  2827\n",
      "175                           Uruguay           2013   171\n",
      "176                           Uruguay           2014   375\n",
      "177                           Uruguay           2015   175\n",
      "178                           Uruguay           2016   201\n",
      "179                           Uruguay           2017   442\n",
      "180                         Venezuela           2011    67\n",
      "181                         Venezuela           2013   329\n",
      "182                         Venezuela           2014   974\n",
      "183               Virgin Islands (US)           2015    16\n",
      "184               Virgin Islands (US)           2016    22\n",
      "185               Virgin Islands (US)           2017    20\n",
      "\n",
      "[186 rows x 3 columns]\n"
     ]
    }
   ],
   "source": [
    "groupedfilter = filter.groupby(['CountryName','MortalityYear']).size().reset_index()\n",
    "print(groupedfilter)"
   ]
  },
  {
   "cell_type": "markdown",
   "metadata": {},
   "source": [
    "Q2 No of deaths per disease to identify the most and least dangerous disease\n",
    "(Line graph to be created to map no of deaths vs disease)"
   ]
  },
  {
   "cell_type": "code",
   "execution_count": 4,
   "metadata": {},
   "outputs": [
    {
     "name": "stdout",
     "output_type": "stream",
     "text": [
      "    ICD10  Deaths\n",
      "56   J189    2951\n",
      "52   J180    2297\n",
      "164  J690    2101\n",
      "126  J449    1891\n",
      "130  J459    1885\n",
      "175  J81     1824\n",
      "178  J841    1658\n",
      "209  J969    1602\n",
      "214  J984    1551\n",
      "46   J159    1518\n",
      "207  J960    1396\n",
      "123  J440    1368\n",
      "53   J181    1319\n",
      "217  J988    1250\n",
      "187  J90     1197\n",
      "122  J439    1175\n",
      "69   J22     1175\n",
      "174  J80     1145\n",
      "180  J849    1054\n",
      "124  J441    1028\n",
      "131  J46     1027\n",
      "125  J448     940\n",
      "117  J42      919\n",
      "113  J40      903\n",
      "132  J47      868\n",
      "54   J182     836\n",
      "64   J209     806\n",
      "186  J869     794\n",
      "208  J961     704\n",
      "210  J980     703\n",
      "..    ...     ...\n",
      "203  J954       6\n",
      "199  J950       5\n",
      "62   J206       5\n",
      "66   J211       5\n",
      "101  J382       5\n",
      "59   J202       5\n",
      "137  J630       5\n",
      "151  J671       5\n",
      "93   J353       5\n",
      "201  J952       5\n",
      "206  J959       4\n",
      "4    J013       4\n",
      "219  J998       4\n",
      "60   J204       3\n",
      "3    J012       3\n",
      "87   J342       3\n",
      "51   J178       3\n",
      "153  J674       3\n",
      "49   J170       3\n",
      "70   J303       2\n",
      "86   J341       2\n",
      "148  J662       2\n",
      "88   J343       2\n",
      "50   J172       1\n",
      "83   J338       1\n",
      "204  J955       1\n",
      "82   J330       1\n",
      "58   J201       1\n",
      "147  J661       1\n",
      "200  J951       1\n",
      "\n",
      "[220 rows x 2 columns]\n"
     ]
    }
   ],
   "source": [
    "groupedfilter= filter.groupby(['ICD10']).size().reset_index()\n",
    "groupedfilter.columns = ['ICD10','Deaths']\n",
    "groupedfilter.sort_values(\"Deaths\",inplace = True,ascending = False)\n",
    "print(groupedfilter)"
   ]
  },
  {
   "cell_type": "markdown",
   "metadata": {},
   "source": [
    "From the above analysis we identify :\n",
    "1. Most dangerous disease : J189 with 2951 deaths\n",
    "Q.3 Countries affected by J189(Pneumonia)\n",
    "Analysis to be derived : Why Argentina was most affected by J189?(Predictive Modeling could be used to identify external factors like GDP,Medical conditions, climate impacting the high mortality rate here)\n",
    "(Bar Graph needs to be created to depict the frequency of breakout per country)"
   ]
  },
  {
   "cell_type": "code",
   "execution_count": 5,
   "metadata": {},
   "outputs": [
    {
     "name": "stdout",
     "output_type": "stream",
     "text": [
      "                         CountryName  Deaths\n",
      "2                          Argentina     187\n",
      "12                          Colombia     186\n",
      "32                              Peru     185\n",
      "29                         Nicaragua     184\n",
      "8                            Brazil      173\n",
      "27                            Mexico     151\n",
      "22                         Guatemala     146\n",
      "40          United States of America     142\n",
      "31                          Paraguay     140\n",
      "30                            Panama     131\n",
      "9                             Canada     125\n",
      "18                       El Salvador     123\n",
      "11                             Chile     115\n",
      "41                           Uruguay     113\n",
      "14                              Cuba     108\n",
      "33                       Puerto Rico      89\n",
      "42                         Venezuela      68\n",
      "17                           Ecuador      68\n",
      "6                             Belize      45\n",
      "25                           Jamaica      44\n",
      "23                            Guyana      43\n",
      "35  Saint Vincent and the Grenadines      41\n",
      "37                          Suriname      39\n",
      "13                        Costa Rica      32\n",
      "4                            Bahamas      29\n",
      "21                        Guadeloupe      26\n",
      "26                        Martinique      25\n",
      "20                           Grenada      24\n",
      "34                       Saint Lucia      24\n",
      "3                              Aruba      23\n",
      "16                Dominican Republic      20\n",
      "24                          Honduras      19\n",
      "43               Virgin Islands (US)      16\n",
      "1                Antigua and Barbuda      14\n",
      "19                     French Guiana      13\n",
      "7                            Bermuda      10\n",
      "5                           Barbados      10\n",
      "15                          Dominica       6\n",
      "10                     CaymanIslands       4\n",
      "0                           Anguilla       4\n",
      "39             TurksandCaicosIslands       3\n",
      "28                        Montserrat       1\n",
      "36                SaintKittsandNevis       1\n",
      "38               Trinidad and Tobago       1\n"
     ]
    }
   ],
   "source": [
    "maxBreakout= filter[filter[\"ICD10\"] == \"J189\"].groupby('CountryName').size().reset_index()\n",
    "maxBreakout.columns = ['CountryName','Deaths']\n",
    "maxBreakout.sort_values(\"Deaths\",inplace = True,ascending = False)\n",
    "print(maxBreakout)"
   ]
  },
  {
   "cell_type": "markdown",
   "metadata": {},
   "source": [
    "Q4 Identified the age most affected by J189(Pneumonia) - Age 27\n",
    "Identified the age least affected by J189(Pneumonia) - Age 31\n",
    "(Draw a pie chart with age groups distribution)\n",
    "Analysis to be derived : Why J189 was most prevalent in this age group? (Predictive modeling could be used with input of external factors like smoking habits,work conditions to predict the age distribution)"
   ]
  },
  {
   "cell_type": "code",
   "execution_count": 6,
   "metadata": {},
   "outputs": [
    {
     "name": "stdout",
     "output_type": "stream",
     "text": [
      "    Age  Deaths\n",
      "25   27     181\n",
      "24   26     168\n",
      "26   28     164\n",
      "23   25     154\n",
      "17   19     153\n",
      "19   21     145\n",
      "22   24     144\n",
      "18   20     141\n",
      "21   23     138\n",
      "16   18     130\n",
      "20   22     128\n",
      "15   17     126\n",
      "3     5     121\n",
      "14   16     114\n",
      "4     6     100\n",
      "5     7      88\n",
      "8    10      86\n",
      "13   15      86\n",
      "11   13      83\n",
      "10   12      81\n",
      "12   14      80\n",
      "6     8      78\n",
      "9    11      74\n",
      "7     9      72\n",
      "27   29      57\n",
      "2     4      32\n",
      "30   32       7\n",
      "1     3       7\n",
      "0     2       6\n",
      "28   30       4\n",
      "29   31       3\n"
     ]
    }
   ],
   "source": [
    "ageDist= filter[filter[\"ICD10\"] == \"J189\"].groupby(['AgeGroupCode']).size().reset_index()\n",
    "ageDist.columns = ['Age','Deaths']\n",
    "ageDist.sort_values(\"Deaths\",inplace = True,ascending = False)\n",
    "print(ageDist)"
   ]
  },
  {
   "cell_type": "markdown",
   "metadata": {},
   "source": [
    "Q5 Identified the gender most affected by J189(Pneumonia)\n",
    "Result : Females are most impacted by J189\n",
    "Analysis to be derived : Causes for the gender being most affected by J189"
   ]
  },
  {
   "cell_type": "code",
   "execution_count": 7,
   "metadata": {},
   "outputs": [
    {
     "name": "stdout",
     "output_type": "stream",
     "text": [
      "    Age  Deaths\n",
      "25   27     181\n",
      "24   26     168\n",
      "26   28     164\n",
      "23   25     154\n",
      "17   19     153\n",
      "19   21     145\n",
      "22   24     144\n",
      "18   20     141\n",
      "21   23     138\n",
      "16   18     130\n",
      "20   22     128\n",
      "15   17     126\n",
      "3     5     121\n",
      "14   16     114\n",
      "4     6     100\n",
      "5     7      88\n",
      "8    10      86\n",
      "13   15      86\n",
      "11   13      83\n",
      "10   12      81\n",
      "12   14      80\n",
      "6     8      78\n",
      "9    11      74\n",
      "7     9      72\n",
      "27   29      57\n",
      "2     4      32\n",
      "30   32       7\n",
      "1     3       7\n",
      "0     2       6\n",
      "28   30       4\n",
      "29   31       3\n"
     ]
    }
   ],
   "source": [
    "genderDist= filter[filter[\"ICD10\"] == \"J189\"].groupby(['Gender']).size().reset_index()\n",
    "genderDist.columns = ['Gender','Deaths']\n",
    "genderDist.sort_values(\"Deaths\",inplace = True,ascending = False)\n",
    "print(ageDist)"
   ]
  },
  {
   "cell_type": "markdown",
   "metadata": {},
   "source": [
    "Q6 Time trend of Argentina ie. outbreak of disease over the period\n",
    "(Histogram needs to be created to perform mapping of time interval and Year)"
   ]
  },
  {
   "cell_type": "code",
   "execution_count": 9,
   "metadata": {},
   "outputs": [
    {
     "name": "stdout",
     "output_type": "stream",
     "text": [
      "   MortalityYear   0\n",
      "0           2011   6\n",
      "1           2013  13\n",
      "2           2014  59\n",
      "3           2015  24\n",
      "4           2016  21\n",
      "5           2017  64\n"
     ]
    }
   ],
   "source": [
    "timeTrend = filter[(filter[\"ICD10\"] == \"J189\") & (filter[\"CountryName\"] == \"Argentina\")].groupby(['MortalityYear']).size().reset_index()\n",
    "print(timeTrend)"
   ]
  }
 ],
 "metadata": {
  "kernelspec": {
   "display_name": "Python 3",
   "language": "python",
   "name": "python3"
  },
  "language_info": {
   "codemirror_mode": {
    "name": "ipython",
    "version": 3
   },
   "file_extension": ".py",
   "mimetype": "text/x-python",
   "name": "python",
   "nbconvert_exporter": "python",
   "pygments_lexer": "ipython3",
   "version": "3.7.3"
  }
 },
 "nbformat": 4,
 "nbformat_minor": 2
}
